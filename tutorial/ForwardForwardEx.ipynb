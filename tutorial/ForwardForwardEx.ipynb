{
 "cells": [
  {
   "cell_type": "markdown",
   "metadata": {},
   "source": [
    "# Forward-Forward\n",
    "[pytorch_forward_forward](https://github.com/mohammadpz/pytorch_forward_forward)\n",
    "\n",
    "No use Threshold version."
   ]
  },
  {
   "cell_type": "code",
   "execution_count": 1,
   "metadata": {
    "collapsed": false,
    "jupyter": {
     "outputs_hidden": false
    }
   },
   "outputs": [],
   "source": [
    "import math\n",
    "import torch\n",
    "import torch.nn as nn\n",
    "import torch.nn.functional as F\n",
    "import torch.optim as opt\n",
    "\n",
    "import matplotlib.pyplot as plt\n",
    "import torchvision.transforms as tvtf\n",
    "from torchvision.datasets import MNIST\n",
    "\n",
    "from torch.utils.data import DataLoader\n",
    "\n",
    "from abc import abstractmethod\n",
    "from tqdm.notebook import tqdm\n",
    "from uuid import uuid4\n",
    "from pprint import pprint\n",
    "from pathlib import Path"
   ]
  },
  {
   "cell_type": "code",
   "execution_count": 2,
   "metadata": {
    "jupyter": {
     "source_hidden": true
    },
    "tags": []
   },
   "outputs": [],
   "source": [
    "def MNIST_loaders(train_batch_size=50000, test_batch_size=10000):\n",
    "    transform = tvtf.Compose([\n",
    "        tvtf.ToTensor(),\n",
    "        tvtf.Normalize((0.1307,), (0.3081,)),\n",
    "        tvtf.Lambda(lambda x: torch.flatten(x))])\n",
    "\n",
    "    train_loader = DataLoader(\n",
    "        MNIST('./ignore_dir/data/', train=True,\n",
    "              download=True,\n",
    "              transform=transform),\n",
    "        batch_size=train_batch_size, shuffle=True)\n",
    "\n",
    "    test_loader = DataLoader(\n",
    "        MNIST('./ignore_dir/data/', train=False,\n",
    "              download=True,\n",
    "              transform=transform),\n",
    "        batch_size=test_batch_size, shuffle=False)\n",
    "\n",
    "    return train_loader, test_loader\n",
    "\n",
    "def overlay_y_on_x(x, y):\n",
    "    x_ = x.clone()\n",
    "    x_[:, :10] *= 0.0\n",
    "    x_[range(x.shape[0]), y] = x.max()\n",
    "    return x_"
   ]
  },
  {
   "cell_type": "code",
   "execution_count": 3,
   "metadata": {
    "tags": []
   },
   "outputs": [],
   "source": [
    "class FFModule(nn.Module):\n",
    "    def __init__(self, layer_train_num_epochs: int):\n",
    "        super().__init__()\n",
    "        self.train_num_epochs = layer_train_num_epochs\n",
    "        self.activation_fn = None\n",
    "        self.optimizer = None\n",
    "\n",
    "    @abstractmethod    \n",
    "    def forward(self, x):\n",
    "        \"\"\"\n",
    "        calc \"Goodness\" value of input data\n",
    "        \"\"\"\n",
    "        return\n",
    "\n",
    "    def train(self, positive, negative):\n",
    "        with tqdm(range(self.train_num_epochs)) as t:\n",
    "\n",
    "            for i in t:\n",
    "                goodness_pos = self.forward(positive).pow(2).mean(1)\n",
    "                goodness_neg = self.forward(negative).pow(2).mean(1)\n",
    "                loss: torch.Tensor = torch.log(\n",
    "                    1 + torch.exp(\n",
    "                        torch.cat([-goodness_pos, goodness_neg])\n",
    "                    )\n",
    "                ).mean()\n",
    "                self.optimizer.zero_grad()\n",
    "                loss.backward()\n",
    "                self.optimizer.step()\n",
    "\n",
    "        return self.forward(positive).detach(), self.forward(negative).detach()"
   ]
  },
  {
   "cell_type": "code",
   "execution_count": 4,
   "metadata": {
    "tags": []
   },
   "outputs": [],
   "source": [
    "class FFLinear(FFModule):\n",
    "    __constants__ = ['in_features', 'out_features']\n",
    "    in_features: int\n",
    "    out_features: int\n",
    "    layer_train_num_epochs: int\n",
    "    weight: torch.Tensor\n",
    "\n",
    "    def __init__(self, in_features: int, out_features: int, layer_train_num_epochs: int = 1000,\n",
    "                 bias: bool = True, device=None, dtype=None) -> None:\n",
    "        factory_kwargs = {'device': device, 'dtype': dtype}\n",
    "        super(FFLinear, self).__init__(layer_train_num_epochs=layer_train_num_epochs)\n",
    "        self.in_features = in_features\n",
    "        self.out_features = out_features\n",
    "        self.weight = nn.parameter.Parameter(torch.empty((out_features, in_features), **factory_kwargs))\n",
    "        if bias:\n",
    "            self.bias = nn.parameter.Parameter(torch.empty(out_features, **factory_kwargs))\n",
    "        else:\n",
    "            self.register_parameter('bias', None)\n",
    "        self.reset_parameters()\n",
    "\n",
    "    def reset_parameters(self) -> None:\n",
    "        nn.init.kaiming_uniform_(self.weight, a=math.sqrt(5))\n",
    "        if self.bias is not None:\n",
    "            fan_in, _ = nn.init._calculate_fan_in_and_fan_out(self.weight)\n",
    "            bound = 1 / math.sqrt(fan_in) if fan_in > 0 else 0\n",
    "            nn.init.uniform_(self.bias, -bound, bound)\n",
    "\n",
    "    def forward(self, input: torch.Tensor) -> torch.Tensor:\n",
    "        return F.linear(input, self.weight, self.bias)\n",
    "\n",
    "    def extra_repr(self) -> str:\n",
    "        return 'in_features={}, out_features={}, bias={}'.format(\n",
    "            self.in_features, self.out_features, self.bias is not None\n",
    "        )"
   ]
  },
  {
   "cell_type": "code",
   "execution_count": 5,
   "metadata": {
    "tags": []
   },
   "outputs": [],
   "source": [
    "class FFLayer(FFLinear):\n",
    "    def __init__(self, in_features, out_features, layer_train_num_epochs=100,\n",
    "                 bias=True, device=None, dtype=None):\n",
    "        super().__init__(in_features, out_features, layer_train_num_epochs, bias, device, dtype)\n",
    "        self.activation_fn = nn.ReLU()\n",
    "        self.optimizer = opt.Adam(self.parameters(), lr=0.03)\n",
    "\n",
    "    def forward(self, x):\n",
    "        x_direction = x / (x.norm(2, 1, keepdim=True) + 1e-4)\n",
    "        return self.activation_fn(\n",
    "            torch.mm(x_direction, self.weight.T) +\n",
    "            self.bias.unsqueeze(0))"
   ]
  },
  {
   "cell_type": "code",
   "execution_count": 6,
   "metadata": {
    "tags": []
   },
   "outputs": [],
   "source": [
    "class Net(nn.Module):\n",
    "    def __init__(self, dims):\n",
    "        super().__init__()\n",
    "        self.layers = []\n",
    "        for d in range(len(dims) - 1):\n",
    "            self.layers += [FFLayer(dims[d], dims[d + 1], layer_train_num_epochs=500).cuda()]\n",
    "\n",
    "    def predict(self, x, tmp=False):\n",
    "        goodness_per_label = []\n",
    "        for label in range(10):\n",
    "            h = overlay_y_on_x(x, label)\n",
    "            goodness = []\n",
    "            for layer in self.layers:\n",
    "                h = layer(h)\n",
    "                goodness += [h.pow(2).mean(1)]\n",
    "            goodness_per_label += [sum(goodness).unsqueeze(1)]\n",
    "\n",
    "        goodness_per_label = torch.cat(goodness_per_label, 1)\n",
    "        goodness_per_label = F.softmax(goodness_per_label, dim=1)\n",
    "\n",
    "        if tmp: pprint(list(enumerate(goodness_per_label[0])))\n",
    "        return goodness_per_label.argmax(1)\n",
    "\n",
    "    def train(self, x_pos, x_neg):\n",
    "        h_pos, h_neg = x_pos, x_neg\n",
    "        for i, layer in enumerate(self.layers):\n",
    "            h_pos, h_neg = layer.train(h_pos, h_neg)"
   ]
  },
  {
   "cell_type": "code",
   "execution_count": 7,
   "metadata": {
    "jupyter": {
     "source_hidden": true
    },
    "tags": []
   },
   "outputs": [],
   "source": [
    "torch.manual_seed(1234)\n",
    "train_loader, test_loader = MNIST_loaders()\n",
    "\n",
    "net = Net([784, 512, 256, 64])\n",
    "x, y = next(iter(train_loader))\n",
    "x, y = x.cuda(), y.cuda()\n",
    "x.size(0), y.size(0)\n",
    "\n",
    "x_pos = overlay_y_on_x(x, y)\n",
    "rnd = torch.randperm(x.size(0))\n",
    "x_neg = overlay_y_on_x(x, y[rnd])"
   ]
  },
  {
   "cell_type": "code",
   "execution_count": 8,
   "metadata": {
    "collapsed": true,
    "jupyter": {
     "outputs_hidden": true,
     "source_hidden": true
    },
    "tags": []
   },
   "outputs": [
    {
     "data": {
      "text/plain": "  0%|          | 0/500 [00:00<?, ?it/s]",
      "application/vnd.jupyter.widget-view+json": {
       "version_major": 2,
       "version_minor": 0,
       "model_id": "70f9366862ef4156bfd718a309de2c79"
      }
     },
     "metadata": {},
     "output_type": "display_data"
    },
    {
     "data": {
      "text/plain": "  0%|          | 0/500 [00:00<?, ?it/s]",
      "application/vnd.jupyter.widget-view+json": {
       "version_major": 2,
       "version_minor": 0,
       "model_id": "ed37a1c6c4d044819119ec41e04b3b48"
      }
     },
     "metadata": {},
     "output_type": "display_data"
    },
    {
     "data": {
      "text/plain": "  0%|          | 0/500 [00:00<?, ?it/s]",
      "application/vnd.jupyter.widget-view+json": {
       "version_major": 2,
       "version_minor": 0,
       "model_id": "0e27b637c4ba470ea6871d9be600efe6"
      }
     },
     "metadata": {},
     "output_type": "display_data"
    },
    {
     "name": "stdout",
     "output_type": "stream",
     "text": [
      "train error: 0.09102004766464233\n",
      "test error: 0.0886000394821167\n"
     ]
    }
   ],
   "source": [
    "net.train(x_pos, x_neg)\n",
    "\n",
    "print('train error:', 1.0 - net.predict(x).eq(y).float().mean().item())\n",
    "\n",
    "x_te, y_te = next(iter(test_loader))\n",
    "x_te, y_te = x_te.cuda(), y_te.cuda()\n",
    "\n",
    "print('test error:', 1.0 - net.predict(x_te).eq(y_te).float().mean().item())"
   ]
  },
  {
   "cell_type": "code",
   "execution_count": 9,
   "metadata": {
    "collapsed": true,
    "jupyter": {
     "outputs_hidden": true,
     "source_hidden": true
    },
    "tags": []
   },
   "outputs": [
    {
     "data": {
      "text/plain": "(tensor([4742,  365,  556, 3026,  147,  132, 1148, 3004, 1689,  120, 3300,  509]),\n tensor([7, 0, 4, 1, 2, 5, 0, 8, 2, 5, 3, 5], device='cuda:0'),\n tensor([7, 0, 4, 1, 2, 5, 0, 2, 2, 5, 3, 5], device='cuda:0'))"
     },
     "execution_count": 9,
     "metadata": {},
     "output_type": "execute_result"
    }
   ],
   "source": [
    "k = torch.randperm(5000)[0:12]\n",
    "k, net.predict(x_te[k]), y_te[k]"
   ]
  },
  {
   "cell_type": "code",
   "execution_count": 10,
   "metadata": {
    "collapsed": true,
    "jupyter": {
     "outputs_hidden": true,
     "source_hidden": true
    },
    "tags": []
   },
   "outputs": [
    {
     "name": "stdout",
     "output_type": "stream",
     "text": [
      "[(0, tensor(0.0786, device='cuda:0', grad_fn=<UnbindBackward0>)),\n",
      " (1, tensor(0.0719, device='cuda:0', grad_fn=<UnbindBackward0>)),\n",
      " (2, tensor(0.1058, device='cuda:0', grad_fn=<UnbindBackward0>)),\n",
      " (3, tensor(0.0677, device='cuda:0', grad_fn=<UnbindBackward0>)),\n",
      " (4, tensor(0.0672, device='cuda:0', grad_fn=<UnbindBackward0>)),\n",
      " (5, tensor(0.0786, device='cuda:0', grad_fn=<UnbindBackward0>)),\n",
      " (6, tensor(0.0822, device='cuda:0', grad_fn=<UnbindBackward0>)),\n",
      " (7, tensor(0.0671, device='cuda:0', grad_fn=<UnbindBackward0>)),\n",
      " (8, tensor(0.3134, device='cuda:0', grad_fn=<UnbindBackward0>)),\n",
      " (9, tensor(0.0677, device='cuda:0', grad_fn=<UnbindBackward0>))]\n",
      "3004 tensor([8], device='cuda:0') tensor(2, device='cuda:0')\n"
     ]
    },
    {
     "data": {
      "text/plain": "<Figure size 640x480 with 1 Axes>",
      "image/png": "[encoded data removed]"
     },
     "metadata": {},
     "output_type": "display_data"
    }
   ],
   "source": [
    "index = 3004# int(torch.randint(0, 5000, (1, )))\n",
    "print(index, net.predict(x_te[index].unsqueeze(0), tmp=True), y_te[index])\n",
    "plt.imshow(x_te[index].cpu().reshape((1, 28, 28)).numpy().transpose((1, 2, 0)), cmap=\"gray\")\n",
    "plt.show()"
   ]
  },
  {
   "cell_type": "code",
   "execution_count": 11,
   "metadata": {},
   "outputs": [],
   "source": [
    "# def return_default(var, default_value=None):\n",
    "#     return var or default_value"
   ]
  },
  {
   "cell_type": "code",
   "execution_count": 12,
   "metadata": {
    "tags": []
   },
   "outputs": [],
   "source": [
    "# class FFModule(nn.Module):\n",
    "#     __layer_cnt__ = 0\n",
    "#     __layer_dict__ = dict()\n",
    "#     def __init__(\n",
    "#         self, train_num_epochs_in_layer: int,\n",
    "#         activation_fn = None, optimizer_fn = None, layer_name = None,\n",
    "#         learning_rate = None,\n",
    "#         **kwargs\n",
    "#     ):\n",
    "#         nn.Module.__init__(self)\n",
    "#\n",
    "#         learning_rate = return_default(learning_rate, 0.001)\n",
    "#         activation_fn = return_default(activation_fn, nn.ReLU)\n",
    "#         self._optimizer_fn = return_default(optimizer_fn, opt.Adam)\n",
    "#\n",
    "#         self.train_num_epochs_in_layer = train_num_epochs_in_layer\n",
    "#         self.activation_fn = activation_fn()\n",
    "#         self.optimizer = None\n",
    "#         self.learning_rate = learning_rate\n",
    "#\n",
    "#         self._name = layer_name or str(uuid4())[:8]\n",
    "#         self._layer_num = FFModule.__layer_cnt__\n",
    "#\n",
    "#         FFModule.__layer_cnt__ += 1\n",
    "#         FFModule.__layer_dict__[self._name] = self\n",
    "#\n",
    "#     def init(self):\n",
    "#         self.init_optimizer()\n",
    "#\n",
    "#     def init_optimizer(self):\n",
    "#         self.optimizer = self._optimizer_fn(self.parameters(), lr=self.learning_rate)\n",
    "#\n",
    "#     @abstractmethod\n",
    "#     def forward(self, x):\n",
    "#         return\n",
    "#\n",
    "#     def calc_loss(self, positive_goodness, negative_goodness) -> torch.Tensor:\n",
    "#         return torch.log(\n",
    "#             1 + torch.exp(\n",
    "#                 torch.cat(\n",
    "#                     [-positive_goodness, negative_goodness]\n",
    "#                 )\n",
    "#             )\n",
    "#         ).mean()\n",
    "#\n",
    "#     def train(self, positive_sample, negative_sample):\n",
    "#         with tqdm(range(self.train_num_epochs_in_layer)) as t:\n",
    "#             for i in t:\n",
    "#                 t.set_description(f\"[training layer {self.__layer_num__}:'{self.name}'][epoch: {i:d4}]\")\n",
    "#                 loss = self.calc_loss(\n",
    "#                     self.forward(positive_sample).pow(2).mean(1),\n",
    "#                     self.forward(negative_sample).pow(2).mean(1),\n",
    "#                 )\n",
    "#                 self.optimizer.zero_grad()\n",
    "#                 loss.backward()\n",
    "#\n",
    "#                 self.optimizer.step()\n",
    "#                 t.update()\n",
    "#\n",
    "#         return self.forward(positive_sample).detach(), self.forward(negative_sample).detach()"
   ]
  },
  {
   "cell_type": "code",
   "execution_count": 12,
   "metadata": {},
   "outputs": [],
   "source": []
  },
  {
   "cell_type": "code",
   "execution_count": 13,
   "metadata": {},
   "outputs": [],
   "source": [
    "# class FFConv2d(FFModule, nn.Conv2d):\n",
    "#     def __init__(\n",
    "#         self, in_channels: int, out_channels: int,\n",
    "#         kernel_size, stride = 1, padding = 0,\n",
    "#         dilation = 1, groups: int = 1, bias: bool = True,\n",
    "#         padding_mode: str = 'zeros', device = None, dtype = None,\n",
    "#         train_num_epochs_in_layer: int = 1000,\n",
    "#         activation_fn = None, optimizer_fn = None, learning_rate = None,\n",
    "#         layer_name = None,\n",
    "#         **kwargs\n",
    "#     ) -> None:\n",
    "#         nn.Conv2d.__init__(\n",
    "#             self, in_features=in_features, out_features=out_features,\n",
    "#             bias=bias, device=device, dtype=dtype\n",
    "#         )\n",
    "#         FFModule.__init__(\n",
    "#             self, train_num_epochs_in_layer=train_num_epochs_in_layer,\n",
    "#             activation_fn=activation_fn, optimizer_fn=optimizer_fn, layer_name=layer_name,\n",
    "#             learning_rate=learning_rate\n",
    "#         )"
   ]
  },
  {
   "cell_type": "code",
   "execution_count": 14,
   "metadata": {},
   "outputs": [],
   "source": [
    "# class FFLayer(FFLinear):\n",
    "#     def __init__(self):\n",
    "#         super().__init__(784, 10)\n",
    "#         self.activation_fn = nn.ReLU()\n",
    "#         self.optimizer = opt.Adam(self.parameters(), lr=0.03)\n",
    "#\n",
    "#         self.init()\n",
    "#\n",
    "#     def forward(self, x):\n",
    "#         x_direction = x / (x.norm(2, 1, keepdim=True) + 1e-4)\n",
    "#         return self.activation_fn(\n",
    "#             torch.mm(x_direction, self.weight.T) +\n",
    "#             self.bias.unsqueeze(0))"
   ]
  },
  {
   "cell_type": "code",
   "execution_count": 15,
   "metadata": {},
   "outputs": [],
   "source": [
    "# FFLayer()"
   ]
  },
  {
   "cell_type": "code",
   "execution_count": null,
   "metadata": {},
   "outputs": [],
   "source": []
  },
  {
   "cell_type": "code",
   "execution_count": null,
   "metadata": {},
   "outputs": [],
   "source": []
  }
 ],
 "metadata": {
  "kernelspec": {
   "display_name": "Python 3 (ipykernel)",
   "language": "python",
   "name": "python3"
  },
  "language_info": {
   "codemirror_mode": {
    "name": "ipython",
    "version": 3
   },
   "file_extension": ".py",
   "mimetype": "text/x-python",
   "name": "python",
   "nbconvert_exporter": "python",
   "pygments_lexer": "ipython3",
   "version": "3.10.6"
  }
 },
 "nbformat": 4,
 "nbformat_minor": 4
}
