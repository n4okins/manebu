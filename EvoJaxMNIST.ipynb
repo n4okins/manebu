{
 "cells": [
  {
   "cell_type": "code",
   "execution_count": 1,
   "metadata": {
    "pycharm": {
     "name": "#%%\n"
    }
   },
   "outputs": [],
   "source": [
    "import jax\n",
    "import jax.numpy as jnp\n",
    "import jraph\n",
    "import evojax\n",
    "from evojax.task.base import TaskState, VectorizedTask\n",
    "from evojax.policy.base import PolicyState, PolicyNetwork\n",
    "\n",
    "from torchvision import datasets\n",
    "from flax import linen as nn\n",
    "from flax.struct import dataclass\n",
    "import numpy as np"
   ]
  },
  {
   "cell_type": "code",
   "execution_count": 2,
   "metadata": {
    "collapsed": false,
    "jupyter": {
     "outputs_hidden": false
    },
    "pycharm": {
     "name": "#%%\n"
    }
   },
   "outputs": [
    {
     "data": {
      "text/plain": [
       "(40628, DeviceArray([    0, 40628], dtype=uint32))"
      ]
     },
     "execution_count": 2,
     "metadata": {},
     "output_type": "execute_result"
    }
   ],
   "source": [
    "SEED = np.random.randint(0, 100000)\n",
    "NUM = 8\n",
    "RANDOM_KEY = jax.random.PRNGKey(SEED)\n",
    "\n",
    "def GET_RANDOM_KEY(): return jax.random.PRNGKey(np.random.randint(0, 100000))\n",
    "SEED, RANDOM_KEY"
   ]
  },
  {
   "cell_type": "code",
   "execution_count": 3,
   "metadata": {
    "pycharm": {
     "name": "#%%\n"
    }
   },
   "outputs": [],
   "source": [
    "class CNN(nn.Module):\n",
    "    @nn.compact\n",
    "    def __call__(self, x):\n",
    "        x = nn.Conv(features=8, kernel_size=(5, 5), padding='SAME')(x)\n",
    "        x = nn.relu(x)\n",
    "        x = nn.max_pool(x, window_shape=(2, 2), strides=(2, 2))\n",
    "        x = nn.Conv(features=8, kernel_size=(3, 3), padding='SAME')(x)\n",
    "        x = nn.relu(x)\n",
    "        x = nn.max_pool(x, window_shape=(2, 2), strides=(2, 2))\n",
    "        x = x.reshape((x.shape[0], -1))  # flatten\n",
    "        x = nn.Dense(features=10)(x)\n",
    "        x = nn.log_softmax(x)\n",
    "        return x"
   ]
  },
  {
   "cell_type": "code",
   "execution_count": 4,
   "metadata": {
    "pycharm": {
     "name": "#%%\n"
    }
   },
   "outputs": [],
   "source": [
    "def loss(prediction: jnp.ndarray, target: jnp.ndarray) -> jnp.float32:\n",
    "    target = jax.nn.one_hot(target, 10)\n",
    "    return -jnp.mean(jnp.sum(prediction * target, axis=1))\n",
    "\n",
    "\n",
    "def accuracy(prediction: jnp.ndarray, target: jnp.ndarray) -> jnp.float32:\n",
    "    predicted_class = jnp.argmax(prediction, axis=2)\n",
    "    print(prediction.shape, predicted_class.shape, target.shape)\n",
    "    return jnp.mean(predicted_class == target)\n",
    "\n",
    "\n",
    "@dataclass\n",
    "class VisionState(TaskState): # obs : batch_data (must) + args\n",
    "    obs : jnp.ndarray\n",
    "    labels: jnp.ndarray\n",
    "\n",
    "class VisionPolicy(PolicyNetwork):\n",
    "    def __init__(self):\n",
    "        model = CNN()\n",
    "        params = model.init(RANDOM_KEY, jnp.zeros([1, 28, 28, 1]))\n",
    "        self.num_params, fmt_fn = evojax.util.get_params_format_fn(params)\n",
    "        self._fmt_fn = jax.vmap(fmt_fn)\n",
    "        \n",
    "        self._forward_fn = jax.vmap(model.apply)\n",
    "        \n",
    "    def get_actions(self, t_states: VisionState, params: jnp.ndarray, p_states: VisionState) -> tuple[jnp.ndarray, VisionState]:\n",
    "        params = self._fmt_fn(params)\n",
    "        return self._forward_fn(params, t_states.obs), p_states\n",
    "   \n",
    "    \n",
    "class MNIST_Task(VectorizedTask):\n",
    "    def __init__(\n",
    "        self, is_test: bool = True, batch_size: int = 32\n",
    "    ):\n",
    "\n",
    "        self.max_steps = 1\n",
    "        self.obs_shape = (28, 28, 1)\n",
    "        self.act_shape = (10, )\n",
    "        \n",
    "        dataset = datasets.MNIST(\"./ignore_dir/data\", train=not is_test, download=True)\n",
    "        data = np.expand_dims(dataset.data.numpy() / 255, axis=-1)\n",
    "        labels = dataset.targets.numpy()\n",
    "        \n",
    "        self.is_test = is_test\n",
    "        \n",
    "        def f(key):\n",
    "            if self.is_test:\n",
    "                bd, bl = data, labels\n",
    "            else:\n",
    "                ix = random.choice(key=key, a=data.shape[0], shape=(batch_size,), replace=False)\n",
    "                bd, bl = (jnp.take(data, indices=ix, axis=0), jnp.take(labels, indices=ix, axis=0))\n",
    "            return VisionState(obs=bd, labels=bl)\n",
    "        \n",
    "        self._reset_fn = jax.jit(jax.vmap(f))\n",
    "    \n",
    "    def _step(self, current_state: VisionState, result):\n",
    "        if self.is_test:\n",
    "            reward = accuracy(result, current_state.labels)\n",
    "        else:\n",
    "            reward = -loss(result, current_state.labels)\n",
    "        return current_state, reward, jnp.ones((), dtype=jnp.int32)\n",
    "\n",
    "    def reset(self, key: jnp.ndarray) -> TaskState:\n",
    "        return self._reset_fn(key)\n",
    "    \n",
    "    def step(self, current_state: VisionState, result: jnp.ndarray) -> tuple[VisionState, jnp.ndarray, jnp.ndarray]:\n",
    "        return self._step(current_state, result)"
   ]
  },
  {
   "cell_type": "code",
   "execution_count": 5,
   "metadata": {
    "pycharm": {
     "name": "#%%\n"
    }
   },
   "outputs": [],
   "source": [
    "policy = VisionPolicy()\n",
    "train_task = MNIST_Task()\n",
    "test_task = MNIST_Task(is_test=True)"
   ]
  },
  {
   "cell_type": "code",
   "execution_count": 6,
   "metadata": {
    "pycharm": {
     "name": "#%%\n"
    }
   },
   "outputs": [
    {
     "data": {
      "text/plain": [
       "(8, 4722)"
      ]
     },
     "execution_count": 6,
     "metadata": {},
     "output_type": "execute_result"
    }
   ],
   "source": [
    "solver = evojax.algo.PGPE(\n",
    "    pop_size=8,\n",
    "    param_size=policy.num_params,\n",
    "    optimizer=\"adam\",\n",
    "    seed=SEED\n",
    ")\n",
    "solver.ask().shape"
   ]
  },
  {
   "cell_type": "code",
   "execution_count": 7,
   "metadata": {
    "pycharm": {
     "name": "#%%\n"
    }
   },
   "outputs": [],
   "source": [
    "trainer = evojax.Trainer(\n",
    "    policy=policy,\n",
    "    solver=solver,\n",
    "    train_task=train_task,\n",
    "    test_task=test_task,\n",
    "    n_evaluations=1,\n",
    "    log_dir=\"./ignore_dir/logs\"\n",
    ")"
   ]
  },
  {
   "cell_type": "code",
   "execution_count": 12,
   "metadata": {
    "pycharm": {
     "name": "#%%\n"
    }
   },
   "outputs": [
    {
     "data": {
      "text/plain": [
       "DeviceArray(0.0984, dtype=float32)"
      ]
     },
     "execution_count": 12,
     "metadata": {},
     "output_type": "execute_result"
    }
   ],
   "source": [
    "trainer.run()"
   ]
  },
  {
   "cell_type": "code",
   "execution_count": 13,
   "metadata": {
    "pycharm": {
     "name": "#%%\n"
    }
   },
   "outputs": [
    {
     "data": {
      "text/plain": [
       "DeviceArray([[-1.8963573 ,  5.1905236 ,  1.7493045 , ..., -0.49119452,\n",
       "              -6.135384  ,  1.2280372 ],\n",
       "             [-1.8829391 ,  5.173755  ,  1.7294123 , ..., -0.82921517,\n",
       "              -6.1479974 ,  1.4862982 ],\n",
       "             [-1.809455  ,  5.1927958 ,  1.7385601 , ..., -0.7132671 ,\n",
       "              -6.147729  ,  1.3206091 ],\n",
       "             ...,\n",
       "             [-1.9608529 ,  5.184592  ,  1.6793004 , ..., -0.31550005,\n",
       "              -6.1160927 ,  1.1364937 ],\n",
       "             [-1.9503118 ,  5.1861587 ,  1.8137469 , ..., -0.6894172 ,\n",
       "              -6.1302357 ,  1.4721737 ],\n",
       "             [-1.8289846 ,  5.17812   ,  1.6649699 , ..., -0.6309925 ,\n",
       "              -6.153146  ,  1.2421618 ]], dtype=float32)"
      ]
     },
     "execution_count": 13,
     "metadata": {},
     "output_type": "execute_result"
    }
   ],
   "source": [
    "trainer.solver.ask()"
   ]
  },
  {
   "cell_type": "code",
   "execution_count": null,
   "metadata": {
    "pycharm": {
     "name": "#%%\n"
    }
   },
   "outputs": [],
   "source": []
  },
  {
   "cell_type": "code",
   "execution_count": null,
   "metadata": {
    "pycharm": {
     "name": "#%%\n"
    }
   },
   "outputs": [],
   "source": []
  }
 ],
 "metadata": {
  "kernelspec": {
   "display_name": "Python 3 (ipykernel)",
   "language": "python",
   "name": "python3"
  },
  "language_info": {
   "codemirror_mode": {
    "name": "ipython",
    "version": 3
   },
   "file_extension": ".py",
   "mimetype": "text/x-python",
   "name": "python",
   "nbconvert_exporter": "python",
   "pygments_lexer": "ipython3",
   "version": "3.9.13"
  }
 },
 "nbformat": 4,
 "nbformat_minor": 4
}