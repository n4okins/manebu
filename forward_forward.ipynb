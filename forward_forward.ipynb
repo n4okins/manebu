{
 "cells": [
  {
   "cell_type": "code",
   "execution_count": 80,
   "id": "13c0bc3c-3c02-4e7c-abe2-9679e11e404e",
   "metadata": {
    "pycharm": {
     "name": "#%%\n"
    }
   },
   "outputs": [],
   "source": [
    "import torch\n",
    "import torch.nn as nn\n",
    "from tqdm import tqdm\n",
    "from torch.optim import Adam\n",
    "from torchvision.datasets import MNIST\n",
    "from torchvision.transforms import Compose, ToTensor, Normalize, Lambda\n",
    "from torch.utils.data import DataLoader\n",
    "\n",
    "import matplotlib.pyplot as plt"
   ]
  },
  {
   "cell_type": "code",
   "execution_count": 102,
   "id": "fe68dada-2f1c-445e-97a7-938b6b7d52a8",
   "metadata": {
    "pycharm": {
     "name": "#%%\n"
    }
   },
   "outputs": [],
   "source": [
    "def MNIST_loaders(train_batch_size=50000, test_batch_size=10000):\n",
    "    transform = Compose([\n",
    "        ToTensor(),\n",
    "        Normalize((0.1307,), (0.3081,)),\n",
    "        Lambda(lambda x: torch.flatten(x))])\n",
    "\n",
    "    train_loader = DataLoader(\n",
    "        MNIST('./ignore_dir/data/', train=True,\n",
    "              download=True,\n",
    "              transform=transform),\n",
    "        batch_size=train_batch_size, shuffle=True)\n",
    "\n",
    "    test_loader = DataLoader(\n",
    "        MNIST('./ignore_dir/data/', train=False,\n",
    "              download=True,\n",
    "              transform=transform),\n",
    "        batch_size=test_batch_size, shuffle=False)\n",
    "\n",
    "    return train_loader, test_loader\n",
    "\n",
    "\n",
    "def overlay_y_on_x(x, y):\n",
    "    x_ = x.clone()\n",
    "    x_[:, :10] *= 0.0\n",
    "    x_[range(x.shape[0]), y] = x.max()\n",
    "    return x_\n",
    "\n",
    "\n",
    "class Net(torch.nn.Module):\n",
    "    def __init__(self, dims):\n",
    "        super().__init__()\n",
    "        self.layers = []\n",
    "        for d in range(len(dims) - 1):\n",
    "            self.layers += [Layer(dims[d], dims[d + 1]).cuda()]\n",
    "\n",
    "    def predict(self, x):\n",
    "        goodness_per_label = []\n",
    "        for label in range(10):\n",
    "            h = overlay_y_on_x(x, label)\n",
    "            goodness = []\n",
    "            for layer in self.layers:\n",
    "                h = layer(h)\n",
    "                goodness += [h.pow(2).mean(1)]\n",
    "            goodness_per_label += [sum(goodness).unsqueeze(1)]\n",
    "        goodness_per_label = torch.cat(goodness_per_label, 1)\n",
    "        return goodness_per_label.argmax(1)\n",
    "\n",
    "    def train(self, x_pos, x_neg):\n",
    "        h_pos, h_neg = x_pos, x_neg\n",
    "        for i, layer in enumerate(self.layers):\n",
    "            print('training layer', i, '...')\n",
    "            h_pos, h_neg = layer.train(h_pos, h_neg)\n",
    "\n",
    "\n",
    "class Layer(nn.Linear):\n",
    "    def __init__(self, in_features, out_features,\n",
    "                 bias=True, device=None, dtype=None):\n",
    "        super().__init__(in_features, out_features, bias, device, dtype)\n",
    "        self.relu = torch.nn.ReLU()\n",
    "        self.opt = Adam(self.parameters(), lr=0.03)\n",
    "        self.threshold = 2.0\n",
    "        self.num_epochs = 1000\n",
    "\n",
    "    def forward(self, x):\n",
    "        x_direction = x / (x.norm(2, 1, keepdim=True) + 1e-4)\n",
    "        return self.relu(\n",
    "            torch.mm(x_direction, self.weight.T) +\n",
    "            self.bias.unsqueeze(0))\n",
    "\n",
    "    def train(self, x_pos, x_neg):\n",
    "        for i in tqdm(range(self.num_epochs)):\n",
    "            g_pos = self.forward(x_pos).pow(2).mean(1)\n",
    "            g_neg = self.forward(x_neg).pow(2).mean(1)\n",
    "            loss = torch.log(1 + torch.exp(torch.cat([\n",
    "                -g_pos + self.threshold,\n",
    "                g_neg - self.threshold]))).mean()\n",
    "            self.opt.zero_grad()\n",
    "            loss.backward()\n",
    "            self.opt.step()\n",
    "        return self.forward(x_pos).detach(), self.forward(x_neg).detach()\n"
   ]
  },
  {
   "cell_type": "code",
   "execution_count": 237,
   "id": "85ead70f-8795-49f5-83cd-da42b1dc1823",
   "metadata": {
    "pycharm": {
     "name": "#%%\n"
    }
   },
   "outputs": [
    {
     "name": "stdout",
     "output_type": "stream",
     "text": [
      "torch.Size([50000, 784])\n",
      "torch.Size([50000, 784])\n",
      "training layer 0 ...\n"
     ]
    },
    {
     "name": "stderr",
     "output_type": "stream",
     "text": [
      "100%|██████████████████████████████████████| 1000/1000 [00:23<00:00, 42.44it/s]\n"
     ]
    },
    {
     "name": "stdout",
     "output_type": "stream",
     "text": [
      "training layer 1 ...\n"
     ]
    },
    {
     "name": "stderr",
     "output_type": "stream",
     "text": [
      "100%|██████████████████████████████████████| 1000/1000 [00:19<00:00, 52.12it/s]\n"
     ]
    },
    {
     "name": "stdout",
     "output_type": "stream",
     "text": [
      "torch.Size([50000, 784])\n",
      "torch.Size([50000, 784])\n",
      "torch.Size([50000, 784])\n",
      "torch.Size([50000, 784])\n",
      "torch.Size([50000, 784])\n",
      "torch.Size([50000, 784])\n",
      "torch.Size([50000, 784])\n",
      "torch.Size([50000, 784])\n",
      "torch.Size([50000, 784])\n",
      "torch.Size([50000, 784])\n",
      "train error: 0.9103800058364868\n",
      "torch.Size([10000, 784])\n",
      "torch.Size([10000, 784])\n",
      "torch.Size([10000, 784])\n",
      "torch.Size([10000, 784])\n",
      "torch.Size([10000, 784])\n",
      "torch.Size([10000, 784])\n",
      "torch.Size([10000, 784])\n",
      "torch.Size([10000, 784])\n",
      "torch.Size([10000, 784])\n",
      "torch.Size([10000, 784])\n",
      "test error: 0.910800002515316\n"
     ]
    }
   ],
   "source": [
    "torch.manual_seed(1234)\n",
    "train_loader, test_loader = MNIST_loaders()\n",
    "\n",
    "net = Net([784, 500, 500])\n",
    "x, y = next(iter(train_loader))\n",
    "x, y = x.cuda(), y.cuda()\n",
    "x_pos = overlay_y_on_x(x, y)\n",
    "rnd = torch.randperm(x.size(0))\n",
    "x_neg = overlay_y_on_x(x, y[rnd])\n",
    "net.train(x_pos, x_neg)\n",
    "\n",
    "print('train error:', 1.0 - net.predict(x).eq(y).float().mean().item())\n",
    "\n",
    "x_te, y_te = next(iter(test_loader))\n",
    "x_te, y_te = x_te.cuda(), y_te.cuda()\n",
    "\n",
    "print('test error:', 1.0 - net.predict(x_te).eq(y_te).float().mean().item())"
   ]
  },
  {
   "cell_type": "code",
   "execution_count": 236,
   "id": "bc522437-31b7-4355-8aa2-28e954d9f174",
   "metadata": {
    "pycharm": {
     "name": "#%%\n"
    }
   },
   "outputs": [
    {
     "name": "stdout",
     "output_type": "stream",
     "text": [
      "torch.Size([50000, 784])\n"
     ]
    },
    {
     "data": {
      "image/png": "[encoded data removed]",
      "text/plain": [
       "<Figure size 640x480 with 1 Axes>"
      ]
     },
     "metadata": {},
     "output_type": "display_data"
    }
   ],
   "source": [
    "# train_loader, test_loader = MNIST_loaders()\n",
    "# x, y = next(iter(train_loader))\n",
    "# print(x.shape, y.shape)\n",
    "\n",
    "def overlay_y_on_x(x, y):\n",
    "    x_ = x.clone()\n",
    "\n",
    "    x_[:, :10] *= 0.0\n",
    "    x_[range(x.shape[0]), y] = x.max()\n",
    "    \n",
    "    return x_\n",
    "\n",
    "xb = overlay_y_on_x(x, y)\n",
    "plt.imshow(xb.reshape((50000, 1, 28, 28)).numpy()[0].transpose((1, 2, 0)), cmap=\"gray\")\n",
    "plt.show()\n",
    "\n",
    "# index = 20\n",
    "# xb, yb = x[index].unsqueeze(0), y[index].unsqueeze(0)\n",
    "# xb = overlay_y_on_x(xb, yb)\n",
    "# plt.imshow(xb.reshape((5, 1, 28, 28)).numpy()[0].transpose((1, 2, 0)), cmap=\"gray\")\n",
    "# plt.show()"
   ]
  },
  {
   "cell_type": "code",
   "execution_count": 126,
   "id": "f082f813-ed9d-4371-a4d6-60ca87aed684",
   "metadata": {
    "pycharm": {
     "name": "#%%\n"
    }
   },
   "outputs": [
    {
     "data": {
      "text/plain": [
       "torch.Size([1, 28, 28])"
      ]
     },
     "execution_count": 126,
     "metadata": {},
     "output_type": "execute_result"
    }
   ],
   "source": [
    "x = xb.reshape((1, 28, 28))\n",
    "x.shape"
   ]
  },
  {
   "cell_type": "code",
   "execution_count": 128,
   "id": "63afe68a-4798-4ea1-8f3a-8205e2edbd4c",
   "metadata": {
    "pycharm": {
     "name": "#%%\n"
    }
   },
   "outputs": [
    {
     "data": {
      "text/plain": [
       "torch.Size([1, 1, 28, 28])"
      ]
     },
     "execution_count": 128,
     "metadata": {},
     "output_type": "execute_result"
    }
   ],
   "source": [
    "x.unsqueeze(0).shape"
   ]
  },
  {
   "cell_type": "code",
   "execution_count": 142,
   "id": "701c5d30-14ac-42f2-9dcc-749bbb5eb511",
   "metadata": {
    "pycharm": {
     "name": "#%%\n"
    }
   },
   "outputs": [
    {
     "name": "stdout",
     "output_type": "stream",
     "text": [
      "(1, 28, 28)\n"
     ]
    },
    {
     "data": {
      "text/plain": [
       "((1, 28, 28), (1, 1, 28, 28), (1, 1, 28, 28))"
      ]
     },
     "execution_count": 142,
     "metadata": {},
     "output_type": "execute_result"
    }
   ],
   "source": [
    "import numpy as np\n",
    "x = np.random.random((1, 28, 28))\n",
    "print(x.shape)\n",
    "x_1 = x[np.newaxis, :]\n",
    "x_2 = np.expand_dims(x, 0)\n",
    "x.shape, x_1.shape, x_2.shape"
   ]
  },
  {
   "cell_type": "code",
   "execution_count": 137,
   "id": "4fb0fbdb-7ad2-49d0-a2f8-67c2cd13658a",
   "metadata": {
    "pycharm": {
     "name": "#%%\n"
    }
   },
   "outputs": [
    {
     "data": {
      "text/plain": [
       "(1, 1, 1, 1, 28, 28)"
      ]
     },
     "execution_count": 137,
     "metadata": {},
     "output_type": "execute_result"
    }
   ],
   "source": []
  },
  {
   "cell_type": "code",
   "execution_count": null,
   "id": "ef819793-d160-4262-83f5-8629b456f254",
   "metadata": {
    "pycharm": {
     "name": "#%%\n"
    }
   },
   "outputs": [],
   "source": []
  }
 ],
 "metadata": {
  "kernelspec": {
   "display_name": "Python 3 (ipykernel)",
   "language": "python",
   "name": "python3"
  },
  "language_info": {
   "codemirror_mode": {
    "name": "ipython",
    "version": 3
   },
   "file_extension": ".py",
   "mimetype": "text/x-python",
   "name": "python",
   "nbconvert_exporter": "python",
   "pygments_lexer": "ipython3",
   "version": "3.9.13"
  }
 },
 "nbformat": 4,
 "nbformat_minor": 5
}