{
 "cells": [
  {
   "cell_type": "code",
   "execution_count": null,
   "outputs": [],
   "source": [
    "import jax\n",
    "import jax.numpy as jnp\n",
    "import jraph\n",
    "\n",
    "from torchvision import datasets, models\n",
    "import torch.nn as nn\n",
    "\n",
    "import numpy as np\n",
    "import pandas as pd\n",
    "import cv2\n",
    "import networkx as nx\n",
    "\n",
    "import sys\n",
    "import matplotlib.pyplot as plt\n",
    "from IPython.display import display\n",
    "\n",
    "from pathlib import Path\n",
    "from typing import *\n",
    "\n",
    "from logging import getLogger, basicConfig, INFO, DEBUG\n",
    "\n",
    "basicConfig(level=INFO, stream=sys.stdout)\n",
    "logger = getLogger(\"Manebu\")\n",
    "logger.setLevel(INFO)"
   ],
   "metadata": {
    "collapsed": false,
    "pycharm": {
     "name": "#%%\n"
    }
   }
  },
  {
   "cell_type": "code",
   "execution_count": null,
   "outputs": [],
   "source": [
    "list(models.resnet34().children())"
   ],
   "metadata": {
    "collapsed": false,
    "pycharm": {
     "name": "#%%\n"
    }
   }
  },
  {
   "cell_type": "code",
   "execution_count": null,
   "outputs": [],
   "source": [
    "# # utils\n",
    "# def generate_int32():\n",
    "#     return np.random.randint(- 2 ** 31, 2 ** 31)\n",
    "\n",
    "# def generate_random_key(seed=None):\n",
    "#     if seed is None:\n",
    "#         seed = generate_int32()\n",
    "#         logger.info(f\"SEED:{seed}\")\n",
    "#     return jax.random.PRNGKey(seed)\n",
    "\n",
    "# def convert_jraph_to_networkx(jraph_graph: jraph.GraphsTuple) -> nx.Graph:\n",
    "#     nodes, edges, receivers, senders, _, _, _ = jraph_graph\n",
    "#     nx_graph = nx.DiGraph()\n",
    "#     if nodes is None:\n",
    "#         for n in range(jraph_graph.n_node[0]):\n",
    "#             nx_graph.add_node(n)\n",
    "#     else:\n",
    "#         for n in range(jraph_graph.n_node[0]):\n",
    "#             nx_graph.add_node(n, node_feature=nodes[n])\n",
    "#     if edges is None:\n",
    "#         for e in range(jraph_graph.n_edge[0]):\n",
    "#             nx_graph.add_edge(int(senders[e]), int(receivers[e]))\n",
    "#     else:\n",
    "#         for e in range(jraph_graph.n_edge[0]):\n",
    "#             nx_graph.add_edge(int(senders[e]), int(receivers[e]), edge_feature=edges[e])\n",
    "\n",
    "#     return nx_graph\n",
    "\n",
    "# def draw_jraph_by_networkx(jraph_graph: jraph.GraphsTuple, **kwargs) -> None:\n",
    "#     nx_graph = convert_jraph_to_networkx(jraph_graph)\n",
    "#     node_feature = {node:node_attr['node_feature'] for node, node_attr in nx_graph.nodes.items()}\n",
    "#     pos = kwargs.get(\"pos\", nx.spring_layout(nx_graph))\n",
    "#     return nx.draw(nx_graph, pos=pos, with_labels=kwargs.get(\"with_labels\", True),\n",
    "#             node_size=kwargs.get(\"node_size\", 400), font_color=kwargs.get(\"font_color\", \"black\"))\n",
    "\n",
    "# generate_random_key()"
   ],
   "metadata": {
    "collapsed": false,
    "pycharm": {
     "name": "#%%\n"
    }
   }
  },
  {
   "cell_type": "code",
   "execution_count": null,
   "outputs": [],
   "source": [
    "DATASET_DIR = Path(\"E:\\\\Dataset\")\n",
    "# print([d.name for d in DATASET_DIR.iterdir()])\n",
    "DATASET_DIR /= \"open-images-v6\"\n",
    "\n",
    "train_0_dir = tuple((DATASET_DIR / \"train\" / \"data\" / \"train_0\").iterdir())\n",
    "len(train_0_dir)"
   ],
   "metadata": {
    "collapsed": false,
    "pycharm": {
     "name": "#%%\n"
    }
   }
  },
  {
   "cell_type": "code",
   "execution_count": null,
   "outputs": [],
   "source": [
    "sample_image = cv2.imread(str(train_0_dir[3000]))\n",
    "sample_image = cv2.cvtColor(sample_image, cv2.COLOR_BGR2RGB)"
   ],
   "metadata": {
    "collapsed": false,
    "pycharm": {
     "name": "#%%\n"
    }
   }
  },
  {
   "cell_type": "code",
   "execution_count": null,
   "outputs": [],
   "source": [
    "class SimpleImageAttention(nn.Module):\n",
    "    def __init__(self, num):\n",
    "        super().__init__()\n",
    "        def _conv2d_block():\n",
    "            return [\n",
    "                nn.Conv2d(3, 64, kernel_size=(7, 7), stride=(2, 2), padding=(3, 3), bias=False),\n",
    "                nn.BatchNorm2d(64, eps=1e-05, momentum=0.1, affine=True, track_running_stats=True),\n",
    "                nn.ReLU(inplace=True),\n",
    "                nn.MaxPool2d(kernel_size=3, stride=2, padding=1, dilation=1, ceil_mode=False),\n",
    "            ]\n",
    "        \n",
    "        self.features = nn.Sequential(\n",
    "            *_conv2d_block()\n",
    "        )\n",
    "        \n",
    "        self.attention_conv = nn.Sequential(\n",
    "            nn.Conv2d(512, 1, 1), nn.Sigmoid()\n",
    "        )\n",
    "        \n",
    "        self.fc = nn.Dropout(0.5)\n",
    "        self._mask = None\n",
    "    \n",
    "    def forward(self, x):\n",
    "        x = self.features(x)\n",
    "\n",
    "        attn = self.attn_conv(x)  # [B, 1, H, W]\n",
    "        B, _, H, W = attn.shape\n",
    "        self.mask_ = attn.detach().cpu()\n",
    "\n",
    "        x = x * attn\n",
    "        x = F.adaptive_avg_pool2d(x, (1, 1))\n",
    "        x = x.reshape(B, -1)\n",
    "        \n",
    "        return self.fc(x)\n",
    "    \n",
    "    def save_attention_mask(self, x, path):\n",
    "        B = x.shape[0]\n",
    "        self.forward(x)\n",
    "        x = x.cpu() * torch.Tensor([0.229, 0.224, 0.225]).reshape(-1, 1, 1)\n",
    "        x = x + torch.Tensor([0.485, 0.456, 0.406]).reshape(-1, 1, 1)\n",
    "        fig, axs = plt.subplots(4, 2, figsize=(6, 8))\n",
    "        plt.axis('off')\n",
    "        for i in range(4):\n",
    "            axs[i, 0].imshow(x[i].permute(1, 2, 0))\n",
    "            axs[i, 1].imshow(self.mask_[i][0])\n",
    "        plt.show()\n",
    "        plt.close()"
   ],
   "metadata": {
    "collapsed": false,
    "pycharm": {
     "name": "#%%\n"
    }
   }
  },
  {
   "cell_type": "code",
   "execution_count": null,
   "outputs": [],
   "source": [
    "model = SimpleImageAttention(10)"
   ],
   "metadata": {
    "collapsed": false,
    "pycharm": {
     "name": "#%%\n"
    }
   }
  },
  {
   "cell_type": "code",
   "execution_count": null,
   "outputs": [],
   "source": [
    "class NodeBase:\n",
    "    def __init__(*args, **kwargs):\n",
    "        pass\n",
    "    \n",
    "    \n",
    "class PatchNode(NodeBase):\n",
    "    def __init__(*args, **kwargs):\n",
    "        super().__init__(*args, **kwargs)\n",
    "\n",
    "        \n",
    "class ImagePatchNode(PatchNode):\n",
    "    def __init__(lab_color: tuple[int, int, int], *args, **kwargs):\n",
    "        pass\n",
    "\n",
    "\n",
    "class GraphBase:\n",
    "    def __init__(*args, **kwargs):\n",
    "        pass\n",
    "    \n",
    "class ImageGraph(GraphBase):\n",
    "    VALID_COLOR_TYPE = Literal[\"BGR\", \"RGB\", \"LAB\"]\n",
    "    \n",
    "    COLOR_CONVERT_CONSTANT = {\n",
    "        \"BGR\": {\n",
    "            \"RGB\": cv2.COLOR_BGR2RGB,\n",
    "            \"LAB\": cv2.COLOR_BGR2LAB\n",
    "        },\n",
    "        \"RGB\": {\n",
    "            \"BGR\": cv2.COLOR_RGB2BGR,\n",
    "            \"LAB\": cv2.COLOR_RGB2LAB\n",
    "        },\n",
    "        \"LAB\": {\n",
    "            \"RGB\": cv2.COLOR_LAB2RGB,\n",
    "            \"BGR\": cv2.COLOR_LAB2BGR\n",
    "        },\n",
    "    }\n",
    "    \n",
    "    \n",
    "    def __init__(self, data: np.ndarray, color_mode: VALID_COLOR_TYPE = \"BGR\", *args, **kwargs):\n",
    "        self.origin_data: np.ndarray = data\n",
    "        self.color_mode: ImageGraph.VALID_COLOR_TYPE  = \"BGR\"\n",
    "        self.patches: list[np.ndarray] = []\n",
    "        if color_mode != \"BGR\":\n",
    "            data = cv2.cvtColor(data, ImageGraph.COLOR_CONVERT_CONSTANT[\"BGR\"][color_mode])\n",
    "        super().__init__(*args, **kwargs)\n",
    "    \n",
    "    def __repr__(self):\n",
    "        return f\"<ImageGraph Shape:{self.origin_data.shape} CMode={self.color_mode}>\"\n",
    "    \n",
    "\n",
    "    @staticmethod\n",
    "    def open(file_path: Path, color_mode: VALID_COLOR_TYPE = \"RGB\", *args, **kwargs):\n",
    "        data = cv2.imread(str(file_path))\n",
    "        return ImageGraph(data, color_mode=color_mode)\n",
    "    \n",
    "    \n",
    "    @property\n",
    "    def h(self):\n",
    "        return self.origin_data.shape[0]\n",
    "\n",
    "    @property\n",
    "    def w(self):\n",
    "        return self.origin_data.shape[1]\n",
    "    \n",
    "    @property\n",
    "    def RGB(self):\n",
    "        data = self.origin_data.copy()\n",
    "        if self.color_mode != \"RGB\":\n",
    "            data = cv2.cvtColor(data, ImageGraph.COLOR_CONVERT_CONSTANT[self.color_mode][\"RGB\"])\n",
    "        return data\n",
    "    \n",
    "    @property\n",
    "    def LAB(self):\n",
    "        data = self.origin_data.copy()\n",
    "        if self.color_mode != \"LAB\":\n",
    "            data = cv2.cvtColor(data, ImageGraph.COLOR_CONVERT_CONSTANT[self.color_mode][\"LAB\"])\n",
    "        return data\n",
    "    \n",
    "    def generate_patches(self):\n",
    "        alpha = 0.5\n",
    "        h, w, c = self.origin_data.shape\n",
    "        \n",
    "    \n",
    "    \n",
    "    def imshow(self):\n",
    "        plt.imshow(self.RGB)\n",
    "        plt.show()"
   ],
   "metadata": {
    "collapsed": false,
    "pycharm": {
     "name": "#%%\n"
    }
   }
  },
  {
   "cell_type": "code",
   "execution_count": null,
   "outputs": [],
   "source": [
    "img = ImageGraph.open(train_0_dir[3000])\n",
    "img.imshow()\n",
    "img.generate_patches()\n",
    "plt.imshow(img.RGB)"
   ],
   "metadata": {
    "collapsed": false,
    "pycharm": {
     "name": "#%%\n"
    }
   }
  },
  {
   "cell_type": "code",
   "execution_count": null,
   "outputs": [],
   "source": [
    "# @dataclass\n",
    "# class GraphParams:\n",
    "#     nodes: jnp.ndarray\n",
    "#     edges: jnp.ndarray\n",
    "\n",
    "#     senders: jnp.ndarray\n",
    "#     receivers: jnp.ndarray\n",
    "\n",
    "#     n_node: int\n",
    "#     n_edge: int\n",
    "\n",
    "\n",
    "# class ManebuCore(object):\n",
    "#     def __init__(self, init_params: GraphParams):\n",
    "#         self.graph = jraph.GraphsTuple(\n",
    "#             nodes=init_params.nodes, edges=init_params.edges,\n",
    "#             n_node=init_params.n_node, n_edge=init_params.n_edge,\n",
    "#             senders=init_params.senders, receivers=init_params.receivers,\n",
    "#             globals=dict(init_params=init_params)\n",
    "#         )\n",
    "    \n",
    "#     def convert_to_networkx(self) -> nx.Graph:\n",
    "#         nodes, edges, receivers, senders, _, _, _ = self.graph\n",
    " \n",
    "#         nx_graph = nx.DiGraph()\n",
    "#         if nodes is None:\n",
    "#             for n in range(self.graph.n_node[0]):\n",
    "#                 nx_graph.add_node(n)\n",
    "#         else:\n",
    "#             for n in range(self.graph.n_node[0]):\n",
    "#                 nx_graph.add_node(n, node_feature=nodes[n]) # create node_feature\n",
    " \n",
    "#         if edges is None:\n",
    "#             for e in range(self.graph.n_edge[0]):\n",
    "#                 nx_graph.add_edge(int(senders[e]), int(receivers[e]))\n",
    "#         else:\n",
    "#             for e in range(self.graph.n_edge[0]):\n",
    "#                 nx_graph.add_edge(int(senders[e]), int(receivers[e]), edge_feature=edges[e])\n",
    "\n",
    "#         return nx_graph\n",
    "\n",
    "    \n",
    "#     def draw(self, **kwargs) -> None:\n",
    "#         nx_graph = self.convert_to_networkx()\n",
    "        \n",
    "#         node_feature = {\n",
    "#            node:node_attr['node_feature'] for node, node_attr in nx_graph.nodes.items()\n",
    "#         }\n",
    "#         nfdf = pd.DataFrame.from_dict(node_feature)\n",
    "#         print(nfdf)\n",
    "        \n",
    "        \n",
    "# #         return nx.draw(nx_graph, pos=pos, with_labels=kwargs.get(\"with_labels\", True),\n",
    "# #                 node_size=kwargs.get(\"node_size\", 400), font_color=kwargs.get(\"font_color\", \"black\"))\n"
   ],
   "metadata": {
    "collapsed": false,
    "pycharm": {
     "name": "#%%\n"
    }
   }
  },
  {
   "cell_type": "code",
   "execution_count": null,
   "outputs": [],
   "source": [
    "# nodes = [[0, 1], 2, 4]\n",
    "# n_node = len(nodes)\n",
    "\n",
    "# p = GraphParams(\n",
    "#     nodes=nodes, edges=[3],\n",
    "#     n_node=[n_node], n_edge=[1],\n",
    "#     senders=[0], receivers=[2],\n",
    "# )\n",
    "# core = ManebuCore(p)\n",
    "# core.draw()"
   ],
   "metadata": {
    "collapsed": false,
    "pycharm": {
     "name": "#%%\n"
    }
   }
  },
  {
   "cell_type": "code",
   "execution_count": 8,
   "id": "5f8ff559-4f7f-4028-95a9-3c6f51ec93b0",
   "metadata": {
    "pycharm": {
     "name": "#%%\n"
    },
    "tags": []
   },
   "outputs": [],
   "source": [
    "# @dataclass\n",
    "# class GraphParams:\n",
    "#     nodes: jnp.ndarray\n",
    "#     edges: jnp.ndarray\n",
    "\n",
    "#     senders: jnp.ndarray\n",
    "#     receivers: jnp.ndarray\n",
    "\n",
    "#     n_node: int\n",
    "#     n_edge: int\n",
    "\n",
    "\n",
    "# class ManebuCore(object):\n",
    "#     def __init__(self, init_params: GraphParams):\n",
    "#         self.graph = jraph.GraphsTuple(\n",
    "#             nodes=init_params.nodes, edges=init_params.edges,\n",
    "#             n_node=init_params.n_node, n_edge=init_params.n_edge,\n",
    "#             senders=init_params.senders, receivers=init_params.receivers,\n",
    "#             globals=dict(init_params=init_params)\n",
    "#         )\n",
    "    \n",
    "#     def convert_to_networkx(self) -> nx.Graph:\n",
    "#         nodes, edges, receivers, senders, _, _, _ = self.graph\n",
    " \n",
    "#         nx_graph = nx.DiGraph()\n",
    "#         if nodes is None:\n",
    "#             for n in range(self.graph.n_node[0]):\n",
    "#                 nx_graph.add_node(n)\n",
    "#         else:\n",
    "#             for n in range(self.graph.n_node[0]):\n",
    "#                 nx_graph.add_node(n, node_feature=nodes[n]) # create node_feature\n",
    " \n",
    "#         if edges is None:\n",
    "#             for e in range(self.graph.n_edge[0]):\n",
    "#                 nx_graph.add_edge(int(senders[e]), int(receivers[e]))\n",
    "#         else:\n",
    "#             for e in range(self.graph.n_edge[0]):\n",
    "#                 nx_graph.add_edge(int(senders[e]), int(receivers[e]), edge_feature=edges[e])\n",
    "\n",
    "#         return nx_graph\n",
    "\n",
    "    \n",
    "#     def draw(self, **kwargs) -> None:\n",
    "#         nx_graph = self.convert_to_networkx()\n",
    "        \n",
    "#         node_feature = {\n",
    "#            node:node_attr['node_feature'] for node, node_attr in nx_graph.nodes.items()\n",
    "#         }\n",
    "#         nfdf = pd.DataFrame.from_dict(node_feature)\n",
    "#         print(nfdf)\n",
    "        \n",
    "        \n",
    "# #         return nx.draw(nx_graph, pos=pos, with_labels=kwargs.get(\"with_labels\", True),\n",
    "# #                 node_size=kwargs.get(\"node_size\", 400), font_color=kwargs.get(\"font_color\", \"black\"))\n"
   ]
  },
  {
   "cell_type": "code",
   "execution_count": 9,
   "id": "b1746375-558b-4fbf-9d5b-927db9c379d5",
   "metadata": {
    "pycharm": {
     "name": "#%%\n"
    },
    "tags": []
   },
   "outputs": [],
   "source": [
    "# nodes = [[0, 1], 2, 4]\n",
    "# n_node = len(nodes)\n",
    "\n",
    "# p = GraphParams(\n",
    "#     nodes=nodes, edges=[3],\n",
    "#     n_node=[n_node], n_edge=[1],\n",
    "#     senders=[0], receivers=[2],\n",
    "# )\n",
    "# core = ManebuCore(p)\n",
    "# core.draw()"
   ]
  },
  {
   "cell_type": "code",
   "execution_count": null,
   "id": "b9ef9552-9b45-4d29-b478-87bb46caed76",
   "metadata": {
    "pycharm": {
     "name": "#%%\n"
    }
   },
   "outputs": [],
   "source": []
  }
 ],
 "metadata": {
  "kernelspec": {
   "display_name": "Python 3 (ipykernel)",
   "language": "python",
   "name": "python3"
  },
  "language_info": {
   "codemirror_mode": {
    "name": "ipython",
    "version": 3
   },
   "file_extension": ".py",
   "mimetype": "text/x-python",
   "name": "python",
   "nbconvert_exporter": "python",
   "pygments_lexer": "ipython3",
   "version": "3.9.13"
  }
 },
 "nbformat": 4,
 "nbformat_minor": 5
}