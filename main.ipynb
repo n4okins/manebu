{
 "cells": [
  {
   "cell_type": "code",
   "execution_count": 203,
   "metadata": {},
   "outputs": [],
   "source": [
    "import jax\n",
    "import jax.numpy as jnp\n",
    "import evojax\n",
    "from evojax.task.base import TaskState, VectorizedTask\n",
    "from evojax.policy.base import PolicyState, PolicyNetwork\n",
    "\n",
    "from flax.struct import dataclass\n",
    "import numpy as np"
   ]
  },
  {
   "cell_type": "code",
   "execution_count": null,
   "outputs": [],
   "source": [
    "SEED = np.random.randint(0, 100000)\n",
    "NUM = 8\n",
    "RANDOM_KEY = jax.random.PRNGKey(SEED)\n",
    "\n",
    "def GET_RANDOM_KEY(): return jax.random.PRNGKey(np.random.randint(0, 100000))\n",
    "SEED, RANDOM_KEY"
   ],
   "metadata": {
    "collapsed": false
   }
  },
  {
   "cell_type": "code",
   "execution_count": 289,
   "metadata": {},
   "outputs": [
    {
     "data": {
      "text/plain": [
       "(8, 1)"
      ]
     },
     "execution_count": 289,
     "metadata": {},
     "output_type": "execute_result"
    }
   ],
   "source": [
    "solver = evojax.algo.PGPE(8, 1)\n",
    "solver.ask().shape"
   ]
  },
  {
   "cell_type": "code",
   "execution_count": 290,
   "metadata": {},
   "outputs": [],
   "source": [
    "class Problem:\n",
    "    def __init__(self):\n",
    "        self.target = jnp.array(range(NUM))\n",
    "\n",
    "@dataclass\n",
    "class MyTaskInitState(TaskState):\n",
    "    obs : jnp.ndarray = jnp.array([0 for i in range(NUM)])\n",
    "\n",
    "        \n",
    "@dataclass\n",
    "class MyPolicyState:\n",
    "    keys: jnp.ndarray\n",
    "\n",
    "    \n",
    "class MyTask(VectorizedTask):\n",
    "    def __init__(\n",
    "        self,\n",
    "        problems: tuple[Problem, ...] = (Problem(),), \n",
    "        is_test: bool = True):\n",
    "        self.problems = problems\n",
    "        \n",
    "        self.max_steps = 1\n",
    "        self.obs_shape = (NUM, )\n",
    "        self.act_shape = (1, )\n",
    "        \n",
    "        self.is_test = is_test\n",
    "    \n",
    "    def __step__(self, state: TaskState, result: jnp.ndarray):\n",
    "        if self.is_test:\n",
    "            reward = NUM - jnp.sum(result)\n",
    "        else:\n",
    "            reward = self.calc_reward(result)\n",
    "\n",
    "        return state, reward, jnp.ones((), dtype=jnp.int32)\n",
    "    \n",
    "    def calc_reward(self, result: jnp.ndarray):\n",
    "        return - jnp.sum((result - 1) ** 2)\n",
    "    \n",
    "    def reset(self, key: jnp.ndarray) -> TaskState:\n",
    "        return MyTaskInitState()\n",
    "    \n",
    "    def step(self, state: TaskState, result: jnp.ndarray) -> tuple[TaskState, jnp.ndarray, jnp.ndarray]:\n",
    "        return self.__step__(state, result)\n",
    "\n",
    "class MyPolicy(PolicyNetwork):\n",
    "    def get_actions(\n",
    "        self, \n",
    "        t_states: TaskState, \n",
    "        params: jnp.ndarray,\n",
    "        p_states: PolicyState,\n",
    "    ) -> tuple[jnp.ndarray, PolicyState]:\n",
    "        return jax.random.randint(GET_RANDOM_KEY(), (NUM, ), 0, 2), p_states\n",
    "   "
   ]
  },
  {
   "cell_type": "code",
   "execution_count": 291,
   "metadata": {},
   "outputs": [],
   "source": [
    "init_state = MyTaskInitState()\n",
    "train_task = MyTask()\n",
    "test_task = MyTask(is_test=True)"
   ]
  },
  {
   "cell_type": "code",
   "execution_count": 322,
   "metadata": {},
   "outputs": [],
   "source": [
    "trainer = evojax.Trainer(\n",
    "    policy=MyPolicy(),\n",
    "    solver=solver,\n",
    "    train_task=train_task,\n",
    "    test_task=test_task,\n",
    "    n_evaluations=NUM,\n",
    "    log_dir=\"./logs\"\n",
    ")"
   ]
  },
  {
   "cell_type": "code",
   "execution_count": 323,
   "metadata": {},
   "outputs": [
    {
     "data": {
      "text/plain": [
       "DeviceArray(8., dtype=float32)"
      ]
     },
     "execution_count": 323,
     "metadata": {},
     "output_type": "execute_result"
    }
   ],
   "source": [
    "trainer.run(demo_mode=False)"
   ]
  },
  {
   "cell_type": "code",
   "execution_count": null,
   "metadata": {},
   "outputs": [],
   "source": []
  },
  {
   "cell_type": "code",
   "execution_count": 325,
   "metadata": {},
   "outputs": [
    {
     "data": {
      "text/plain": [
       "DeviceArray(8., dtype=float32)"
      ]
     },
     "execution_count": 325,
     "metadata": {},
     "output_type": "execute_result"
    }
   ],
   "source": [
    "trainer.run(demo_mode=False)"
   ]
  },
  {
   "cell_type": "code",
   "execution_count": 329,
   "metadata": {},
   "outputs": [
    {
     "data": {
      "text/plain": [
       "DeviceArray([[-0.00436163],\n",
       "             [-0.00541603],\n",
       "             [-0.00548816],\n",
       "             [-0.00428949],\n",
       "             [-0.00460761],\n",
       "             [-0.00517004],\n",
       "             [-0.00517295],\n",
       "             [-0.00460471]], dtype=float32)"
      ]
     },
     "execution_count": 329,
     "metadata": {},
     "output_type": "execute_result"
    }
   ],
   "source": [
    "trainer.solver.ask()"
   ]
  },
  {
   "cell_type": "code",
   "execution_count": null,
   "metadata": {},
   "outputs": [],
   "source": []
  }
 ],
 "metadata": {
  "kernelspec": {
   "display_name": "Python 3 (ipykernel)",
   "language": "python",
   "name": "python3"
  },
  "language_info": {
   "codemirror_mode": {
    "name": "ipython",
    "version": 3
   },
   "file_extension": ".py",
   "mimetype": "text/x-python",
   "name": "python",
   "nbconvert_exporter": "python",
   "pygments_lexer": "ipython3",
   "version": "3.9.13"
  }
 },
 "nbformat": 4,
 "nbformat_minor": 4
}
